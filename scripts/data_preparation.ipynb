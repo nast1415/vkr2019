{
 "cells": [
  {
   "cell_type": "code",
   "execution_count": 24,
   "metadata": {},
   "outputs": [],
   "source": [
    "# Created by Anastasia Filatova \n",
    "import numpy as np\n",
    "import pandas as pd\n",
    "import re"
   ]
  },
  {
   "cell_type": "code",
   "execution_count": 25,
   "metadata": {},
   "outputs": [],
   "source": [
    "# Upload prepared data that contains all routes and all transactions\n",
    "routes_df = pd.read_csv('list_of_routes.csv', sep=',', dtype={\"route_id\": int, \"route_type\": str, \n",
    "                                                              \"number\": int, \"additional_info\": str}) \n",
    "transactions_df = pd.read_csv('transactions_data/all_transactions.csv', sep=',', \n",
    "                              dtype={\"CARD_NUM\": str, \"TRANSACT_DAY\": int, \"TRANSACT_MONTH\": int, \"TRANSACT_YEAR\": int,\n",
    "                                    \"TRANSACT_TIME\": str, \"ID_CARRIER_SEKOP\": str, \"ID_ROUTE\": int, \"ORDER_NUM\": str,\n",
    "                                    \"CARRIER_BOARD_NUM\": int, \"ID_READER\": str, \"TRIP_NUM\": str, \"CONDUCTOR_CODE\": str})"
   ]
  },
  {
   "cell_type": "code",
   "execution_count": 26,
   "metadata": {},
   "outputs": [],
   "source": [
    "#print(\"Данные обо всех коммерческих маршрутах и их id, используемых в записях транзакций\")\n",
    "#routes_df"
   ]
  },
  {
   "cell_type": "code",
   "execution_count": 27,
   "metadata": {},
   "outputs": [],
   "source": [
    "# Оставляем только нужную для дальнешего анализа информацию в датасете\n",
    "# Номер карты, id маршрута, бортовой номер машины и время транзакции (год, месяц, день, время)\n",
    "#print(\"Данные обо всех транзакциях\")\n",
    "tr_df = transactions_df[[\"CARD_NUM\", \"TRANSACT_DAY\", \"TRANSACT_MONTH\", \"TRANSACT_YEAR\", \"TRANSACT_TIME\", \"ID_ROUTE\", \"CARRIER_BOARD_NUM\"]]\n",
    "#tr_df"
   ]
  },
  {
   "cell_type": "code",
   "execution_count": 28,
   "metadata": {},
   "outputs": [],
   "source": [
    "# Для удобства приводим данные о времени транзакции в единый формат: hh:mm:ss\n",
    "# Там, где не было информации о секундах, дописывается :00\n",
    "# Туда, где информация о часах была представлена в виде h дописывается ведущий ноль\n",
    "def update_time_records(times_array):\n",
    "    reg1 = r\"^([0-9]|0[0-9]|1[0-9]|2[0-3]):[0-5][0-9]$\" #неполная запись без секунд любого вида h:mm или hh:mm\n",
    "    reg2 =  r\"^[0-9]:[0-5][0-9]:[0-5][0-9]$\" #неполная запись часов вида 4:49:56\n",
    "    for i in range(times_array.shape[0]):\n",
    "        time = times_array[i]\n",
    "        if re.match(reg1, time):\n",
    "            time = time + \":00\" \n",
    "        if re.match(reg2, time):\n",
    "            time = \"0\" + time\n",
    "        times_array[i] = time\n",
    "    return times_array"
   ]
  },
  {
   "cell_type": "code",
   "execution_count": 29,
   "metadata": {},
   "outputs": [],
   "source": [
    "# Достаем данные о времени транзакции из датасета и приводим в единый формат \n",
    "# с использованием вспомогательной функции update_time_records\n",
    "times_array = tr_df['TRANSACT_TIME'].values\n",
    "tr_df = tr_df.drop('TRANSACT_TIME', 1)\n",
    "new_times_array = update_time_records(times_array)\n",
    "new_time_records = pd.Series(new_times_array, index=tr_df.index)\n",
    "tr_df.loc[:, 'TRANSACT_TIME'] = new_time_records\n",
    "#tr_df"
   ]
  },
  {
   "cell_type": "code",
   "execution_count": 31,
   "metadata": {},
   "outputs": [],
   "source": [
    "# Сортируем данные в датасете в следующем порядке: \n",
    "# год, месяц, день транзакции, id маршрута, бортовой номер машины, время транзакции\n",
    "tr_df = tr_df.sort_values(by=['TRANSACT_YEAR', 'TRANSACT_MONTH', 'TRANSACT_DAY', 'ID_ROUTE', 'CARRIER_BOARD_NUM', 'TRANSACT_TIME'])\n",
    "tr_df = tr_df.reset_index(drop=True)"
   ]
  },
  {
   "cell_type": "code",
   "execution_count": 32,
   "metadata": {},
   "outputs": [],
   "source": [
    "# Вспомогательный блок, тут происходит подготовка данных об id маршрутов в системе СЭКОП и номеров коммерческих маршрутов\n",
    "# для дальнешего анализа и установления соответствия между ними\n",
    "\n",
    "# Создаем общий список id коммерческих маршрутов\n",
    "routes_id_list = routes_df[\"route_id\"].values.tolist()\n",
    "number_of_routes = len(routes_id_list)\n",
    "\n",
    "# Создаем общий список названий коммерческих маршрутов (с литерами, если они есть)\n",
    "routes_numbers_list = []\n",
    "for i in range(number_of_routes):\n",
    "    liter = str(routes_df[\"additional_info\"][i])\n",
    "    if liter != \"nan\":\n",
    "        routes_numbers_list.append(str(routes_df[\"number\"][i]) + str(routes_df[\"additional_info\"][i]))\n",
    "    else:\n",
    "        routes_numbers_list.append(str(routes_df[\"number\"][i]))\n",
    "\n",
    "#print(\"routes numbers:\", routes_numbers_list)"
   ]
  },
  {
   "cell_type": "code",
   "execution_count": 33,
   "metadata": {},
   "outputs": [],
   "source": [
    "# Данный блок содержит вспомогательные функции, позволяющие установить соответствие между номером маршрута \n",
    "# и его идентификатором в ситстеме СЭКОП\n",
    "def get_route_id_by_num(route_num):\n",
    "    for i in range(number_of_routes):\n",
    "        if routes_numbers_list[i] == route_num:\n",
    "            return routes_id_list[i]\n",
    "    return \"Error! Commercial route not found\"\n",
    "\n",
    "\n",
    "def get_route_num_by_id(route_id):\n",
    "    for i in range(number_of_routes):\n",
    "        if routes_id_list[i] == route_id:\n",
    "            return routes_numbers_list[i]\n",
    "    return \"Error! Commercial route not found\""
   ]
  },
  {
   "cell_type": "code",
   "execution_count": 34,
   "metadata": {},
   "outputs": [],
   "source": [
    "# Для удобства дальнешего анализа и визуализации в получившийся датасет добавляется информация о номере маршрута\n",
    "# Для этого используются написанные вспомогательные функции\n",
    "id_route_array = tr_df['ID_ROUTE'].values.tolist()\n",
    "route_num = []\n",
    "\n",
    "for i in range(len(id_route_array)):\n",
    "    route_num.append(get_route_num_by_id(id_route_array[i]))\n",
    "routes_numbers = pd.Series(np.array(route_num), index=tr_df.index)"
   ]
  },
  {
   "cell_type": "code",
   "execution_count": 15,
   "metadata": {},
   "outputs": [],
   "source": [
    "tr_df.loc[:, 'ROUTE_NUM'] = routes_numbers\n",
    "tr_df.shape[0]\n",
    "# Сохраняем итог в файл\n",
    "tr_df.to_csv('final_transactions_data.csv')"
   ]
  },
  {
   "cell_type": "code",
   "execution_count": 35,
   "metadata": {},
   "outputs": [],
   "source": [
    "# Вспомогательная функция, вычисляющая разность между двумя переданными временными штампами в секундах \n",
    "# Допущения: timestamp2 > timestamp1, это гарантируется при подаче на вход\n",
    "def get_times_delta(timestamp1, timestamp2):\n",
    "    time_arr1 = timestamp1.split(':')\n",
    "    time_arr2 = timestamp2.split(':')\n",
    "    return int(time_arr2[2]) - int(time_arr1[2]) + 60 * (int(time_arr2[1]) - int(time_arr1[1])) + 3600 * (int(time_arr2[0]) - int(time_arr1[0]))"
   ]
  },
  {
   "cell_type": "code",
   "execution_count": 49,
   "metadata": {},
   "outputs": [
    {
     "name": "stdout",
     "output_type": "stream",
     "text": [
      "CARD_NUM             36064299927210500\n",
      "TRANSACT_DAY                        24\n",
      "TRANSACT_MONTH                       9\n",
      "TRANSACT_YEAR                     2018\n",
      "ID_ROUTE                           979\n",
      "CARRIER_BOARD_NUM                  845\n",
      "TRANSACT_TIME                 22:20:51\n",
      "IS_DUPLICATE                         1\n",
      "Name: 88822, dtype: object\n",
      "-----\n",
      "CARD_NUM             36064299927210500\n",
      "TRANSACT_DAY                        24\n",
      "TRANSACT_MONTH                       9\n",
      "TRANSACT_YEAR                     2018\n",
      "ID_ROUTE                           979\n",
      "CARRIER_BOARD_NUM                  845\n",
      "TRANSACT_TIME                 22:22:33\n",
      "IS_DUPLICATE                         1\n",
      "Name: 88823, dtype: object\n",
      "--------------------------------------------------------\n",
      "CARD_NUM             36081385847674628\n",
      "TRANSACT_DAY                        12\n",
      "TRANSACT_MONTH                       9\n",
      "TRANSACT_YEAR                     2018\n",
      "ID_ROUTE                           631\n",
      "CARRIER_BOARD_NUM                18650\n",
      "TRANSACT_TIME                 20:49:44\n",
      "IS_DUPLICATE                         0\n",
      "Name: 233646, dtype: object\n",
      "-----\n",
      "CARD_NUM             36081385847674628\n",
      "TRANSACT_DAY                        12\n",
      "TRANSACT_MONTH                       9\n",
      "TRANSACT_YEAR                     2018\n",
      "ID_ROUTE                           631\n",
      "CARRIER_BOARD_NUM                18650\n",
      "TRANSACT_TIME                 20:51:40\n",
      "IS_DUPLICATE                         1\n",
      "Name: 233647, dtype: object\n",
      "--------------------------------------------------------\n",
      "CARD_NUM             36115506005505028\n",
      "TRANSACT_DAY                        14\n",
      "TRANSACT_MONTH                       8\n",
      "TRANSACT_YEAR                     2018\n",
      "ID_ROUTE                           413\n",
      "CARRIER_BOARD_NUM                  882\n",
      "TRANSACT_TIME                 18:25:49\n",
      "IS_DUPLICATE                         0\n",
      "Name: 517918, dtype: object\n",
      "-----\n",
      "CARD_NUM             36115506005505028\n",
      "TRANSACT_DAY                        14\n",
      "TRANSACT_MONTH                       8\n",
      "TRANSACT_YEAR                     2018\n",
      "ID_ROUTE                           413\n",
      "CARRIER_BOARD_NUM                  882\n",
      "TRANSACT_TIME                 18:27:47\n",
      "IS_DUPLICATE                         1\n",
      "Name: 517919, dtype: object\n",
      "--------------------------------------------------------\n",
      "CARD_NUM             36116855297754628\n",
      "TRANSACT_DAY                        22\n",
      "TRANSACT_MONTH                       8\n",
      "TRANSACT_YEAR                     2018\n",
      "ID_ROUTE                           309\n",
      "CARRIER_BOARD_NUM                  720\n",
      "TRANSACT_TIME                 19:02:45\n",
      "IS_DUPLICATE                         0\n",
      "Name: 595246, dtype: object\n",
      "-----\n",
      "CARD_NUM             36116855297754628\n",
      "TRANSACT_DAY                        22\n",
      "TRANSACT_MONTH                       8\n",
      "TRANSACT_YEAR                     2018\n",
      "ID_ROUTE                           309\n",
      "CARRIER_BOARD_NUM                  720\n",
      "TRANSACT_TIME                 19:04:30\n",
      "IS_DUPLICATE                         1\n",
      "Name: 595247, dtype: object\n",
      "--------------------------------------------------------\n",
      "CARD_NUM             36122283465390300\n",
      "TRANSACT_DAY                         9\n",
      "TRANSACT_MONTH                      10\n",
      "TRANSACT_YEAR                     2018\n",
      "ID_ROUTE                           578\n",
      "CARRIER_BOARD_NUM                 1075\n",
      "TRANSACT_TIME                 10:34:29\n",
      "IS_DUPLICATE                         0\n",
      "Name: 651511, dtype: object\n",
      "-----\n",
      "CARD_NUM             36122283465390300\n",
      "TRANSACT_DAY                         9\n",
      "TRANSACT_MONTH                      10\n",
      "TRANSACT_YEAR                     2018\n",
      "ID_ROUTE                           578\n",
      "CARRIER_BOARD_NUM                 1075\n",
      "TRANSACT_TIME                 10:36:28\n",
      "IS_DUPLICATE                         1\n",
      "Name: 651512, dtype: object\n",
      "--------------------------------------------------------\n",
      "CARD_NUM             36126104505551100\n",
      "TRANSACT_DAY                        27\n",
      "TRANSACT_MONTH                       9\n",
      "TRANSACT_YEAR                     2018\n",
      "ID_ROUTE                           200\n",
      "CARRIER_BOARD_NUM                  438\n",
      "TRANSACT_TIME                 16:59:39\n",
      "IS_DUPLICATE                         0\n",
      "Name: 876802, dtype: object\n",
      "-----\n",
      "CARD_NUM             36126104505551100\n",
      "TRANSACT_DAY                        27\n",
      "TRANSACT_MONTH                       9\n",
      "TRANSACT_YEAR                     2018\n",
      "ID_ROUTE                           200\n",
      "CARRIER_BOARD_NUM                  438\n",
      "TRANSACT_TIME                 17:01:25\n",
      "IS_DUPLICATE                         1\n",
      "Name: 876803, dtype: object\n",
      "--------------------------------------------------------\n"
     ]
    }
   ],
   "source": [
    "# Данный блок содержит код алгоритма, позволяющего распознать среди данных о транзакциях дубликаты\n",
    "# Транзакция считается дубликатом, если она отличается от предыдущей меньше чем на 100 секунд, при этом\n",
    "# все остальные параметры совпадают (дата, номер карты, номер маршрута и бортовой номер автобуса)\n",
    "tr_df = tr_df.sort_values(by=['CARD_NUM', 'TRANSACT_YEAR', 'TRANSACT_MONTH', 'TRANSACT_DAY', 'TRANSACT_TIME'])\n",
    "tr_df = tr_df.reset_index(drop=True)\n",
    "\n",
    "times = tr_df['TRANSACT_TIME'].values   \n",
    "board_nums = tr_df['CARRIER_BOARD_NUM'].values  \n",
    "cards = tr_df['CARD_NUM'].values  \n",
    "days = tr_df['TRANSACT_DAY'].values  \n",
    "months = tr_df['TRANSACT_MONTH'].values  \n",
    "\n",
    "# Составляем массив дубликатов\n",
    "is_duplicate = [0]\n",
    "delta = 100\n",
    "delta2 = 120\n",
    "\n",
    "for i in range(1, times.shape[0]):\n",
    "    if (get_times_delta(times[i-1], times[i]) < delta2) and (get_times_delta(times[i-1], times[i]) > delta) and (cards[i] == cards[i-1]) and (board_nums[i] == board_nums[i-1]) and (days[i] == days[i-1]) and (months[i] == months[i-1]):\n",
    "        print(tr_df.loc[i-1, :])\n",
    "        print('-----')\n",
    "        print(tr_df.loc[i, :])\n",
    "        print('--------------------------------------------------------')\n",
    "    elif (get_times_delta(times[i-1], times[i]) < delta) and (cards[i] == cards[i-1]) and (board_nums[i] == board_nums[i-1]) and (days[i] == days[i-1]) and (months[i] == months[i-1]):\n",
    "        is_duplicate.append(1)\n",
    "    else:\n",
    "        is_duplicate.append(0)"
   ]
  },
  {
   "cell_type": "code",
   "execution_count": 45,
   "metadata": {},
   "outputs": [
    {
     "data": {
      "text/plain": [
       "61187"
      ]
     },
     "execution_count": 45,
     "metadata": {},
     "output_type": "execute_result"
    }
   ],
   "source": [
    "# Добавляем поле IS_DUPLICATE в датасет. Если запись - дубликат, то значение этого поля 1, иначе 0\n",
    "duplicates = pd.Series(np.array(is_duplicate), index=tr_df.index)\n",
    "tr_df.loc[:, 'IS_DUPLICATE'] = duplicates\n",
    "tr_df[tr_df['IS_DUPLICATE'] == 1].CARD_NUM.count() # Всего в датасете оказалось 61153 дублирующих записи"
   ]
  },
  {
   "cell_type": "code",
   "execution_count": 21,
   "metadata": {},
   "outputs": [],
   "source": [
    "# Сохраняем итог в файл\n",
    "tr_df.to_csv('final_transactions_with_duplicate_labels_data.csv')"
   ]
  }
 ],
 "metadata": {
  "kernelspec": {
   "display_name": "Python 3",
   "language": "python",
   "name": "python3"
  },
  "language_info": {
   "codemirror_mode": {
    "name": "ipython",
    "version": 3
   },
   "file_extension": ".py",
   "mimetype": "text/x-python",
   "name": "python",
   "nbconvert_exporter": "python",
   "pygments_lexer": "ipython3",
   "version": "3.6.0"
  }
 },
 "nbformat": 4,
 "nbformat_minor": 2
}
