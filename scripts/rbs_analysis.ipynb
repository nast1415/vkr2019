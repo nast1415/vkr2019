{
 "cells": [
  {
   "cell_type": "code",
   "execution_count": null,
   "metadata": {},
   "outputs": [],
   "source": [
    "import numpy as np\n",
    "import pandas as pd"
   ]
  },
  {
   "cell_type": "code",
   "execution_count": null,
   "metadata": {},
   "outputs": [],
   "source": [
    "# Загружаем файл routes_by_stop\n",
    "rbs_df = pd.read_csv('resources/rbs.csv', ';')"
   ]
  },
  {
   "cell_type": "code",
   "execution_count": null,
   "metadata": {},
   "outputs": [],
   "source": [
    "# Вспомогательная функция, которая по номеру маршрута, дате и типу транспорта выдает список остановок в указанную дату в двух направлениях\n",
    "# Формат результата (4 параметра): количество остановок в прямом направлении, перечень остановок в прямом направлении, \n",
    "# количество остановок в обратном направлении, перечень остановок в обратном направлении\n",
    "\n",
    "def get_route_stops(route_number, tr_date, tr_id):\n",
    "    route_df = rbs_df[rbs_df['ROUTE_NUMBER'] == route_number]\n",
    "    route_df = route_df[route_df['DDATE'] == tr_date]\n",
    "    route_df = route_df[route_df['ID_TRANSPORT'] == tr_id]\n",
    "    route_stops_in_dir1 = route_df[route_df['DIRECTION'] == 1].ID_STOP.values\n",
    "    route_stops_in_dir2 = route_df[route_df['DIRECTION'] == 2].ID_STOP.values\n",
    "    num1 = route_stops_in_dir1.shape[0]\n",
    "    num2 = route_stops_in_dir2.shape[0]\n",
    "    if route_stops_in_dir1.shape[0] != 0:\n",
    "        dir1_str = str(route_stops_in_dir1[0])\n",
    "    else: \n",
    "        dir1_str = \"\"\n",
    "    if route_stops_in_dir2.shape[0] != 0:\n",
    "        dir2_str = str(route_stops_in_dir2[0])\n",
    "    else: \n",
    "        dir2_str = \"\"\n",
    "    for stop in route_stops_in_dir1[1:]:\n",
    "        dir1_str += \",\"\n",
    "        dir1_str += str(stop)\n",
    "    for stop in route_stops_in_dir2[1:]:\n",
    "        dir2_str += \",\"\n",
    "        dir2_str += str(stop)\n",
    "    return num1, dir1_str, num2, dir2_str"
   ]
  },
  {
   "cell_type": "code",
   "execution_count": null,
   "metadata": {},
   "outputs": [],
   "source": [
    "# Пример работы функции get_route_stops\n",
    "route_number = '68'\n",
    "tr_date = '03.10.2018'\n",
    "tr_id = 1 # это значит, что мы хотим получить информацию об автобусе №68\n",
    "\n",
    "num1, ex1, num2, ex2 = get_route_stops(route_number, tr_date, tr_id)\n",
    "\n",
    "print('Количество остановок на городском маршруте №' + route_number + ' в день ' + tr_date + ' в направлении 1: ' + str(num1))\n",
    "print('Количество остановок на городском маршруте №' + route_number + ' в день ' + tr_date + ' в направлении 2: ' + str(num2))"
   ]
  },
  {
   "cell_type": "code",
   "execution_count": null,
   "metadata": {},
   "outputs": [],
   "source": [
    "#Исследуем файл rbs на предмет поиска дат, в которые было больше всего информации о маршрутах\n",
    "max_val = 0\n",
    "days = []\n",
    "months = []\n",
    "\n",
    "for i in ['01', '02','03','04','05','06','07','08','09', '10',\n",
    "         '11', '12','13','14','15','16','17','18','19', '20',\n",
    "         '21', '22','23','24','25','26','27','28','29', '30', '31']:\n",
    "    for j in ['08', '09', '10']:\n",
    "        cur_date = i + '.' + j + '.2018'\n",
    "        num_routes = rbs_df[rbs_df['DDATE'] == cur_date]['ROUTE_NUMBER'].unique().shape[0] \n",
    "        if num_routes > max_val:\n",
    "            max_val = num_routes\n",
    "            \n",
    "for i in ['01', '02','03','04','05','06','07','08','09', '10',\n",
    "         '11', '12','13','14','15','16','17','18','19', '20',\n",
    "         '21', '22','23','24','25','26','27','28','29', '30', '31']:\n",
    "    for j in ['08', '09', '10']:\n",
    "        cur_date = i + '.' + j + '.2018'\n",
    "        num_routes = rbs_df[rbs_df['DDATE'] == cur_date]['ROUTE_NUMBER'].unique().shape[0] \n",
    "        if num_routes == max_val:\n",
    "            days.append(cur_date.split('.')[0])\n",
    "            months.append(cur_date.split('.')[1])\n",
    "            \n",
    "print(\"Информация о самом большом количестве маршрутов (\" + str(max_val) + \" маршрута) отражена в документе в следующие дни:\")\n",
    "for day, month in zip(days, months):\n",
    "    print(day + '.' + month + '.2018')"
   ]
  },
  {
   "cell_type": "code",
   "execution_count": null,
   "metadata": {},
   "outputs": [],
   "source": [
    "# Функция, которая позволяет создать единый csv-файл, в котором будет отражена \n",
    "# вся информация о маршрутах определенного типа (автобусы в т.ч. коммерческие, трамваи, троллейбусы) в указанный день \n",
    "# и остановках на них (в прямом и обратном направлении)\n",
    "\n",
    "def create_routes_by_stops_csv(tr_date, tr_id):\n",
    "    all_routes_df = rbs_df[rbs_df['DDATE'] == tr_date]\n",
    "    all_routes = all_routes_df[all_routes_df['ID_TRANSPORT'] == tr_id]['ROUTE_NUMBER'].unique()\n",
    "    result_data = []\n",
    "    for i in range(all_routes.shape[0]):\n",
    "        route_number = all_routes[i]\n",
    "        dir1 = \"\"\n",
    "        dir2 = \"\"\n",
    "        num1, dir1, num2, dir2 = get_route_stops(route_number, tr_date, tr_id)\n",
    "        result_data.append([str(route_number), tr_id, num1, dir1, num2, dir2])\n",
    "    return result_data"
   ]
  },
  {
   "cell_type": "code",
   "execution_count": null,
   "metadata": {},
   "outputs": [],
   "source": [
    "# Итоговый csv будет содержать 6 колонок: \n",
    "# route_number - номер маршрута, \n",
    "# id_transport - id вида транспорта, к которому относится маршрут (1 - автобус, в т.ч. коммерческие; 2 - трамвай; 3 - троллейбус),\n",
    "# number_of_stops_in_direction1 - количество остановок в прямом направлении, \n",
    "# stops_in_direction1 - перечень ID остановок в прямом направлении через запятую в строковом формате, \n",
    "# number_of_stops_in_direction2 - количество остановок в обратном направлении, \n",
    "# stops_in_direction2 - перечень ID остановок в обратном направлении через запятую в строковом формате\n",
    "\n",
    "# Выбираем дату (по умолчанию стоит дата, в которую больше всего записей о маршрутах)\n",
    "tr_date = '22.09.2018'\n",
    "\n",
    "# Готовим даннные для всех типов транспорта\n",
    "bus_data = create_routes_by_stops_csv(tr_date, 1)\n",
    "tram_data = create_routes_by_stops_csv(tr_date, 2)\n",
    "troll_data = create_routes_by_stops_csv(tr_date, 3)\n",
    "\n",
    "# Записываем итоговые dataset-ы в файлы (3 отдельных csv файла для автобусов, трамваев и троллебусов)\n",
    "routes_by_stops_df = pd.DataFrame(np.array(bus_data), columns=['route_number', 'id_transport', 'number_of_stops_in_direction1', 'stops_in_direction1', 'number_of_stops_in_direction2', 'stops_in_direction2'])\n",
    "routes_by_stops_df.to_csv('resources/buses_routes_by_stops.csv', encoding='utf-8-sig')\n",
    "\n",
    "routes_by_stops_df = pd.DataFrame(np.array(tram_data), columns=['route_number', 'id_transport', 'number_of_stops_in_direction1', 'stops_in_direction1', 'number_of_stops_in_direction2', 'stops_in_direction2'])\n",
    "routes_by_stops_df.to_csv('resources/tram_routes_by_stops.csv', encoding='utf-8-sig')\n",
    "\n",
    "routes_by_stops_df = pd.DataFrame(np.array(troll_data), columns=['route_number', 'id_transport', 'number_of_stops_in_direction1', 'stops_in_direction1', 'number_of_stops_in_direction2', 'stops_in_direction2'])\n",
    "routes_by_stops_df.to_csv('resources/troll_routes_by_stops.csv', encoding='utf-8-sig')"
   ]
  },
  {
   "cell_type": "code",
   "execution_count": null,
   "metadata": {},
   "outputs": [],
   "source": [
    "# Открываем получившийся dataset\n",
    "bus_df = pd.read_csv('resources/buses_routes_by_stops.csv', index_col=0)\n",
    "tram_df = pd.read_csv('resources/tram_routes_by_stops.csv', index_col=0)\n",
    "troll_df = pd.read_csv('resources/troll_routes_by_stops.csv', index_col=0)\n",
    "\n",
    "# Для удобства также создадим общий dataset, в котором будет содержаться информация о всех видах транспорта\n",
    "r_df = bus_df\n",
    "r_df = r_df.append(tram_df, ignore_index = True)\n",
    "r_df = r_df.append(troll_df, ignore_index = True)\n",
    "r_df = r_df.fillna('-1')\n",
    "\n",
    "# Блок корректировки данных о маршрутах (дальнейшая проверка выявила ошибки в исходных данных об остановках)\n",
    "r_df.loc[r_df['route_number'] == '467', 'number_of_stops_in_direction2'] = 4\n",
    "r_df.loc[r_df['route_number'] == '467', 'stops_in_direction2'] = '2530,4398,3006,4403'\n",
    "r_df.loc[r_df['route_number'] == '467', 'number_of_stops_in_direction1'] = 3\n",
    "r_df.loc[r_df['route_number'] == '467', 'stops_in_direction1'] = '18506,22763,4379'\n",
    "\n",
    "r_df.loc[r_df['route_number'] == '469', 'number_of_stops_in_direction1'] = 13\n",
    "r_df.loc[r_df['route_number'] == '469', 'stops_in_direction1'] = '18506,22763,4379,1310,2026,1313,1314,2529,20595,17650,17652,1319,1320'\n",
    "r_df.loc[r_df['route_number'] == '469', 'number_of_stops_in_direction2'] = 14\n",
    "r_df.loc[r_df['route_number'] == '469', 'stops_in_direction2'] = '22764,20596,2533,2532,17654,2530,22002,2528,2527,3212,2524,4398,3006,4403'"
   ]
  },
  {
   "cell_type": "code",
   "execution_count": null,
   "metadata": {},
   "outputs": [],
   "source": [
    "# Ищем нужные нам коммерческие маршруты (проверка актуальности информации)\n",
    "# Данные 11 коммерческих маршрутов - самые популярные среди пассажиров, оплачивающих проезд картами \"Подорожник\"\n",
    "# Именно поэтому они представляют наибольший интерес\n",
    "\n",
    "route_nums = ['К-68', 'К-191', 'К-92', 'К-49', 'К-55', 'К-13', 'К-7', 'К-67', 'К-184', 'К-1', 'К-226']\n",
    "\n",
    "print(\"Результаты поиска данных о самых популярных коммерческих маршрутах в документе rbs.csv\")\n",
    "print()\n",
    "\n",
    "bus_df = r_df[r_df['id_transport'] == 1]\n",
    "\n",
    "for route_num in route_nums:\n",
    "    print('----------------------------------------')\n",
    "    print('Маршрут ', route_num)\n",
    "    print('Количество остановок в прямом направлении: ', bus_df[bus_df['route_number'] == route_num]['number_of_stops_in_direction1'].values[0])\n",
    "    print('Количество остановок в обратном направлении: ', bus_df[bus_df['route_number'] == route_num]['number_of_stops_in_direction2'].values[0])"
   ]
  },
  {
   "cell_type": "markdown",
   "metadata": {},
   "source": [
    "Как мы видим, информация по остановкам для нужных нам коммерческих маршрутов (тех, по которым есть много информации о транзакциях по картам \"Подорожник\") некорректна (т.к. фактически на указанных маршрутах гораздо больше остановок)."
   ]
  },
  {
   "cell_type": "markdown",
   "metadata": {},
   "source": [
    "Для корректной дальнешей работы был проведен дополнительный анализ указанных маршрутов и корректная информация о них описана ниже. Тем не менее, отдельный интерес представляют также те коммерческие маршруты, для которых информация по количеству остановок корректна. Поэтому следующий блок содержит код функции, позволяющей находить коммерческие маршруты, для которых описанное количество остановок дотаточно большое."
   ]
  },
  {
   "cell_type": "code",
   "execution_count": null,
   "metadata": {},
   "outputs": [],
   "source": [
    "# Вначале определим полный список коммерческих маршрутов, информация о которых есть в документе\n",
    "commercial_routes = []\n",
    "for route_num in r_df['route_number'].values:\n",
    "    if str(route_num).split('-')[0] == 'К':\n",
    "        commercial_routes.append(route_num)\n",
    "\n",
    "# Далее создадим функцию, позволяющую определить топ 10 коммерческих маршрутов с самым большим количеством остановок\n",
    "def find_most_informative_routes():\n",
    "    number_of_stops_1 = []\n",
    "    number_of_stops_2 = []\n",
    "    for num in commercial_routes:\n",
    "        number_of_stops_1.append(r_df[r_df['route_number'] == num]['number_of_stops_in_direction1'].values[0])\n",
    "        number_of_stops_2.append(r_df[r_df['route_number'] == num]['number_of_stops_in_direction2'].values[0])\n",
    "    zipped_info = zip(commercial_routes, number_of_stops_1, number_of_stops_2)\n",
    "    new_zip = sorted(zipped_info, key = lambda x: x[1], reverse=True)\n",
    "    return new_zip[:10]"
   ]
  },
  {
   "cell_type": "code",
   "execution_count": null,
   "metadata": {},
   "outputs": [],
   "source": [
    "# Самые информативные маршруты\n",
    "res = find_most_informative_routes()"
   ]
  },
  {
   "cell_type": "code",
   "execution_count": null,
   "metadata": {},
   "outputs": [],
   "source": [
    "# Следующий блок кода посвящен добавлению в получившийся датасет с информацией об общественном транспорте информацию о кластерах\n",
    "# (districts), которым принадлежат остановки на маршруте\n",
    "\n",
    "stations_df = pd.read_csv('resources/stations.csv', ';')\n",
    "clusters_df = pd.read_csv('resources/district_stops.csv', ';')\n",
    "\n",
    "def find_cluster_id(id_stop):\n",
    "    res = clusters_df[clusters_df['ID_STOP'] == int(float(id_stop))]['ID_STOP_GROUP'].values\n",
    "    if res.shape[0] == 0:\n",
    "        return '-1'\n",
    "    else:\n",
    "        return str(int(res[0]))"
   ]
  },
  {
   "cell_type": "code",
   "execution_count": null,
   "metadata": {},
   "outputs": [],
   "source": [
    "# Проверка информации по похожим маршрутам городского транспорта\n",
    "bus_route_nums = ['68', '103', '153', '27', '92', '168', '114', '9', '127', '172', '171', '134А','13', '13А', '39', '187', '49', '181','71', '66', '35', '2', '6', '71', '26']\n",
    "troll_route_nums = [37, 38, 27, 35]\n",
    "\n",
    "bus_df = r_df[r_df['id_transport'] == 1]\n",
    "tram_df = r_df[r_df['id_transport'] == 2]\n",
    "troll_df = r_df[r_df['id_transport'] == 3]\n",
    "\n",
    "print(\"Результаты поиска данных о нужных автобусах в документе rbs.csv\")\n",
    "print()\n",
    "for bus_route_num in bus_route_nums:\n",
    "    print('----------------------------------------')\n",
    "    print('Маршрут ', bus_route_num)\n",
    "    print('Количество остановок в прямом направлении: ', bus_df[bus_df['route_number'] == bus_route_num]['number_of_stops_in_direction1'].values[0])\n",
    "    print('Количество остановок в обратном направлении: ', bus_df[bus_df['route_number'] == bus_route_num]['number_of_stops_in_direction2'].values[0])\n",
    "\n",
    "print()\n",
    "print(\"Результаты поиска данных о нужных троллейбусах в документе rbs.csv\")\n",
    "print()\n",
    "for troll_route_num in troll_route_nums:\n",
    "    print('----------------------------------------')\n",
    "    print('Маршрут ', troll_route_num)\n",
    "    print('Количество остановок в прямом направлении: ', troll_df[troll_df['route_number'] == troll_route_num]['number_of_stops_in_direction1'].values[0])\n",
    "    print('Количество остановок в обратном направлении: ', troll_df[troll_df['route_number'] == troll_route_num]['number_of_stops_in_direction2'].values[0])"
   ]
  },
  {
   "cell_type": "code",
   "execution_count": null,
   "metadata": {},
   "outputs": [],
   "source": [
    "stops_in_dir1 = r_df['stops_in_direction1'].values\n",
    "clusters_column_data1 = []\n",
    "\n",
    "for stops_list in stops_in_dir1:\n",
    "    if stops_list == '-1':\n",
    "        clusters_column_data1.append('-1')\n",
    "    else:\n",
    "        stops = stops_list.split(',')\n",
    "        clusters_str = find_cluster_id(int(stops[0]))\n",
    "        for stop in stops[1:]:\n",
    "            clusters_str = clusters_str + ',' + find_cluster_id(stop)\n",
    "        clusters_column_data1.append(clusters_str)\n",
    "    \n",
    "stops_in_dir2 = r_df['stops_in_direction2'].values\n",
    "clusters_column_data2 = []\n",
    "for stops_list in stops_in_dir2:\n",
    "    if stops_list == '-1':\n",
    "        clusters_column_data2.append('-1')\n",
    "    else:\n",
    "        stops = stops_list.split(',')\n",
    "        clusters_str = find_cluster_id(int(stops[0]))\n",
    "        for stop in stops[1:]:\n",
    "            clusters_str = clusters_str + ',' + find_cluster_id(int(stop))\n",
    "        clusters_column_data2.append(clusters_str)\n",
    "\n",
    "        \n",
    "r_df['clusters_in_direction1'] = None\n",
    "r_df['clusters_in_direction2'] = None\n",
    "r_df.loc[:,'clusters_in_direction1'] = pd.Series(np.array(clusters_column_data1))\n",
    "r_df.loc[:,'clusters_in_direction2'] = pd.Series(np.array(clusters_column_data2)) \n",
    "\n",
    "r_df.to_csv('resources/social_routes_info.csv', encoding='utf-8-sig')"
   ]
  }
 ],
 "metadata": {
  "celltoolbar": "Raw Cell Format",
  "kernelspec": {
   "display_name": "Python 3",
   "language": "python",
   "name": "python3"
  },
  "language_info": {
   "codemirror_mode": {
    "name": "ipython",
    "version": 3
   },
   "file_extension": ".py",
   "mimetype": "text/x-python",
   "name": "python",
   "nbconvert_exporter": "python",
   "pygments_lexer": "ipython3",
   "version": "3.6.0"
  }
 },
 "nbformat": 4,
 "nbformat_minor": 2
}
