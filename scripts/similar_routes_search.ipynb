{
 "cells": [
  {
   "cell_type": "code",
   "execution_count": 24,
   "metadata": {},
   "outputs": [],
   "source": [
    "import numpy as np\n",
    "import pandas as pd\n",
    "from suffix_trees.STree import STree"
   ]
  },
  {
   "cell_type": "code",
   "execution_count": 153,
   "metadata": {},
   "outputs": [
    {
     "data": {
      "text/plain": [
       "'2058,2210,2338,1940,1752,2529,1712,1716,603,600,606,1216,1740,1821,1743,1741,203,203,2185,1491,198,878,361,877,875,876,876,1018,1498,1020,2179,1455,860,294,1364,2325,416'"
      ]
     },
     "execution_count": 153,
     "metadata": {},
     "output_type": "execute_result"
    }
   ],
   "source": [
    "# Загружаем подготовленные датасеты с городскими и коммерческими маршрутами \n",
    "# (с полными списками остановок в обоих направлениях и номерами кластеров, к которым относятся остановки)\n",
    "r_df = pd.read_csv('all_routes_info.csv', index_col=0)\n",
    "all_routes_df = r_df[['route_number', 'id_transport', 'number_of_stops_in_direction1', 'stops_in_direction1', 'number_of_stops_in_direction2', 'stops_in_direction2', 'clusters_in_direction1', 'clusters_in_direction2']]\n",
    "\n",
    "comm_df = pd.read_csv('commerce_stops.csv', index_col=0)\n",
    "comm_df[comm_df['route_number'] == 191]['clusters_in_direction1'].values[0]"
   ]
  },
  {
   "cell_type": "code",
   "execution_count": 117,
   "metadata": {},
   "outputs": [],
   "source": [
    "# Основной алгоритм поиска похожих городских маршрутов. Состоит из нескольких функций\n",
    "\n",
    "#def find_longest_subroute(str1, str2):\n",
    "\n",
    "def sequential_slice(iterable, length):\n",
    "    pool = tuple(iterable)\n",
    "    assert 0 < length <= len(pool)\n",
    "    tails = (pool[s:] for s in range(length))\n",
    "    return zip(*tails)\n",
    "\n",
    "def sequence_in_list(sequence, lst):\n",
    "    pool = tuple(sequence)\n",
    "    return any((pool == s for s in sequential_slice(lst, len(pool))))\n",
    "\n",
    "def lcs(str1, str2):\n",
    "    a = str1.split(',')\n",
    "    b = str2.split(',')\n",
    "    \n",
    "    is_max = True\n",
    "    if len(a) > len(b):\n",
    "        a, b = b, a\n",
    "    for l in reversed(range(1, len(a)+1)):\n",
    "        seq = [subseq for subseq in sequential_slice(a, l) if sequence_in_list(subseq, b)]\n",
    "        if seq:\n",
    "            break\n",
    "    return seq\n",
    "\n",
    "def create_list_of_subroutes(str1, str2):\n",
    "    res = 1\n",
    "    all_subroutes = []\n",
    "    while len(str1) > 0 and len(str2) > 0 and res != 0:\n",
    "        seq = lcs(str1, str2)\n",
    "        if len(seq) == 0:\n",
    "            res = 0\n",
    "        else:\n",
    "            all_subroutes.append(seq[0])\n",
    "            substr = \"\"\n",
    "            for i in seq[0]:\n",
    "                substr += \",\" + i\n",
    "            \n",
    "            new_str1_array = str1.split(substr)\n",
    "            if len(new_str1_array) == 1:\n",
    "                str1 = str1.split(substr)[0]\n",
    "            else:\n",
    "                str1 = str1.split(substr)[0] + str1.split(substr)[1]\n",
    "                \n",
    "            new_str2_array = str2.split(substr) \n",
    "            if len(new_str2_array) == 1:\n",
    "                str2 = str2.split(substr)[0]\n",
    "            else:\n",
    "                str2 = str2.split(substr)[0] + str2.split(substr)[1]\n",
    "    amount_of_similar = 0            \n",
    "    for i in range(len(all_subroutes)):\n",
    "        amount_of_similar += len(all_subroutes[i]) - 1\n",
    "    return all_subroutes, amount_of_similar  "
   ]
  },
  {
   "cell_type": "code",
   "execution_count": 118,
   "metadata": {},
   "outputs": [],
   "source": [
    "all_routes_names = all_routes_df['route_number'].values"
   ]
  },
  {
   "cell_type": "code",
   "execution_count": 163,
   "metadata": {},
   "outputs": [],
   "source": [
    "def find_similar_routes(comm_route):\n",
    "    comm_clusters1 = comm_df[comm_df['route_number'] == comm_route]['clusters_in_direction1'].values[0]\n",
    "    comm_clusters2 = comm_df[comm_df['route_number'] == comm_route]['clusters_in_direction2'].values[0]\n",
    "    \n",
    "    number_of_stops = len(comm_clusters1.split(','))\n",
    "    choosen_direction = 1\n",
    "    direction_of_result = 1\n",
    "    \n",
    "    similarity_arr = []\n",
    "    max_subroute = []\n",
    "    if comm_clusters1 != '-1':\n",
    "        for route in all_routes_names:\n",
    "            current_clusters = all_routes_df[all_routes_df['route_number'] == route]['clusters_in_direction1'].values[0]\n",
    "            subroutes, amount = create_list_of_subroutes(comm_clusters1, current_clusters)\n",
    "            if len(subroutes) == 0:\n",
    "                similarity_arr.append([route, 0, []])\n",
    "            else:                       \n",
    "                similarity_arr.append([route, amount, subroutes])\n",
    "    most_similar = sorted(similarity_arr, key=lambda x: x[1], reverse=True)[:5]\n",
    "    return most_similar, number_of_stops, choosen_direction, direction_of_result\n",
    "\n",
    "def perform_result(comm_route):\n",
    "    similar, number_of_stops,  choosen_direction, direction_of_result = find_similar_routes(comm_route)\n",
    "    print('-------------------------------------')\n",
    "    print('Для коммерческого маршрута № '+ str(comm_route) + ' найдено пять наиболее похожих:')\n",
    "    for route in similar:\n",
    "        print(\"Маршрут № \" + route[0] + \", процент совпадения: \", round(route[1] * 100 / (number_of_stops - 1)), \"%\")\n",
    "        print(\"На данном маршруте совпадают следующие перегоны (пока в виде id кластеров): \", route[2])\n",
    "        print()"
   ]
  },
  {
   "cell_type": "code",
   "execution_count": 164,
   "metadata": {},
   "outputs": [
    {
     "data": {
      "text/plain": [
       "3"
      ]
     },
     "execution_count": 164,
     "metadata": {},
     "output_type": "execute_result"
    }
   ],
   "source": [
    "route1 = \"15,17,18,19,20,33,45,56\"\n",
    "route2 = \"9,6,3,9,18,19,20,34,45,56\"\n",
    "x1 = create_list_of_subroutes(route1, route2)\n",
    "#x1= lcs(route1, route2)\n",
    "x1[1]"
   ]
  },
  {
   "cell_type": "code",
   "execution_count": 165,
   "metadata": {},
   "outputs": [
    {
     "name": "stdout",
     "output_type": "stream",
     "text": [
      "-------------------------------------\n",
      "Для коммерческого маршрута № 191 найдено пять наиболее похожих:\n",
      "Маршрут № 103, процент совпадения:  39 %\n",
      "На данном маршруте совпадают следующие перегоны (пока в виде id кластеров):  [('1821', '1743', '1741', '203', '203', '2185'), ('1716', '603', '600', '606', '1216'), ('1491', '198', '878', '361'), ('1940', '1752', '2529'), ('2058',)]\n",
      "\n",
      "Маршрут № 107, процент совпадения:  36 %\n",
      "На данном маршруте совпадают следующие перегоны (пока в виде id кластеров):  [('876', '1018', '1498', '1020', '2179', '1455', '860', '294', '1364', '2325'), ('198', '878', '361', '877', '875')]\n",
      "\n",
      "Маршрут № 102, процент совпадения:  36 %\n",
      "На данном маршруте совпадают следующие перегоны (пока в виде id кластеров):  [('1821', '1743', '1741', '203', '203', '2185'), ('603', '600', '606', '1216'), ('1491', '198', '878', '361'), ('1940', '1752', '2529'), ('2058',)]\n",
      "\n",
      "Маршрут № 153, процент совпадения:  33 %\n",
      "На данном маршруте совпадают следующие перегоны (пока в виде id кластеров):  [('1821', '1743', '1741', '203', '203', '2185'), ('1940', '1752', '2529', '1712', '1716'), ('603', '600', '606', '1216'), ('2058',), ('1491',)]\n",
      "\n",
      "Маршрут № 133, процент совпадения:  25 %\n",
      "На данном маршруте совпадают следующие перегоны (пока в виде id кластеров):  [('1020', '2179', '1455', '860', '294', '1364', '2325'), ('203', '203', '2185'), ('1491', '198')]\n",
      "\n"
     ]
    }
   ],
   "source": [
    "perform_result(191)"
   ]
  },
  {
   "cell_type": "code",
   "execution_count": 34,
   "metadata": {},
   "outputs": [
    {
     "data": {
      "text/plain": [
       "['18', '19', '20', '56', '68', '67']"
      ]
     },
     "execution_count": 34,
     "metadata": {},
     "output_type": "execute_result"
    }
   ],
   "source": [
    "x = route1.split(',')\n",
    "y = route2.split(',')\n",
    "LCS_DYN(x, y)"
   ]
  },
  {
   "cell_type": "code",
   "execution_count": null,
   "metadata": {},
   "outputs": [],
   "source": []
  }
 ],
 "metadata": {
  "kernelspec": {
   "display_name": "Python 3",
   "language": "python",
   "name": "python3"
  },
  "language_info": {
   "codemirror_mode": {
    "name": "ipython",
    "version": 3
   },
   "file_extension": ".py",
   "mimetype": "text/x-python",
   "name": "python",
   "nbconvert_exporter": "python",
   "pygments_lexer": "ipython3",
   "version": "3.6.0"
  }
 },
 "nbformat": 4,
 "nbformat_minor": 2
}
